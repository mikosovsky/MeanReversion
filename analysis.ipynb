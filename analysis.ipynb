{
 "cells": [
  {
   "cell_type": "markdown",
   "id": "c9ce02af",
   "metadata": {},
   "source": [
    "# Mean Reversion"
   ]
  },
  {
   "cell_type": "markdown",
   "id": "72136e57",
   "metadata": {},
   "source": [
    "## Internal Bar Strength"
   ]
  },
  {
   "cell_type": "markdown",
   "id": "9c9c6544",
   "metadata": {},
   "source": [
    "### Theory"
   ]
  },
  {
   "cell_type": "markdown",
   "id": "b899ef48",
   "metadata": {},
   "source": [
    "**IBS** can in someway predict bullish or bearish movement of feature. It' pretty simple to calculate:\n",
    "$$\n",
    "\\text{IBS}=\\frac{\\text{Close}-\\text{Low}}{\\text{High}-\\text{Low}}\n",
    "$$"
   ]
  },
  {
   "cell_type": "markdown",
   "id": "639c9967",
   "metadata": {},
   "source": [
    "$$\n",
    "\\text{IBS} < 0.6 \\rightarrow \\text{potential bearish sentiment}\n",
    "$$\n",
    "$$\n",
    "\\text{IBS} \\geq 0.6 \\rightarrow \\text{potential bullish sentiment}\n",
    "$$"
   ]
  },
  {
   "cell_type": "markdown",
   "id": "1e9f1878",
   "metadata": {},
   "source": [
    "Bollinger Band integrate historical data to estimate when a mean reversal is probable. Bollinger is using 25-day moving average of high prices and its deviation from the scaled range of high and low moving average prices:\n",
    "\n",
    "$$\n",
    "\\text{Band} = \\text{MA}_{25}(\\text{High})-(2.25\\cdot\\text{HL}_\\text{avg})\n",
    "$$\n",
    "where\n",
    "$$\n",
    "\\text{HL}_\\text{avg}=\\text{MA}_{25}(\\text{High})-\\text{MA}_{25}(\\text{Low})\n",
    "$$"
   ]
  },
  {
   "cell_type": "markdown",
   "id": "00034dfa",
   "metadata": {},
   "source": [
    "### Fetch data"
   ]
  },
  {
   "cell_type": "code",
   "execution_count": 160,
   "id": "97284a76",
   "metadata": {},
   "outputs": [
    {
     "name": "stderr",
     "output_type": "stream",
     "text": [
      "/var/folders/g3/sxyl_n7x6d51bbb320nhxx5c0000gn/T/ipykernel_1059/2019963194.py:6: FutureWarning: YF.download() has changed argument auto_adjust default to True\n",
      "  data = yf.download(ticker, period=\"1y\", interval=\"1d\", group_by=\"column\")\n",
      "[*********************100%***********************]  1 of 1 completed\n"
     ]
    }
   ],
   "source": [
    "import yfinance as yf\n",
    "\n",
    "ticker = \"^GSPC\"\n",
    "ticker = \"ORCL\"\n",
    "\n",
    "data = yf.download(ticker, period=\"1y\", interval=\"1d\", group_by=\"column\")\n",
    "data.columns = data.columns.droplevel(1)  # drop second level of MultiIndex"
   ]
  },
  {
   "cell_type": "code",
   "execution_count": 161,
   "id": "89d78727",
   "metadata": {},
   "outputs": [
    {
     "name": "stdout",
     "output_type": "stream",
     "text": [
      "Price            Close        High         Low        Open    Volume\n",
      "Date                                                                \n",
      "2024-08-16  136.046448  136.392829  134.977630  135.373482   4893800\n",
      "2024-08-19  136.491791  136.521479  135.046918  136.105830   3641600\n",
      "2024-08-20  137.728836  138.342411  136.392825  136.392825   3738300\n",
      "2024-08-21  138.748169  138.847139  137.115261  137.362673   3776800\n",
      "2024-08-22  136.650116  139.619050  136.224561  139.242980   5162200\n",
      "...                ...         ...         ...         ...       ...\n",
      "2025-08-11  252.679993  254.690002  245.559998  248.399994   9012100\n",
      "2025-08-12  253.860001  257.869995  251.080002  252.580002   9998400\n",
      "2025-08-13  244.179993  257.670013  242.639999  257.170013  14182100\n",
      "2025-08-14  244.960007  248.919998  242.570007  244.949997  10285600\n",
      "2025-08-15  248.279999  250.630005  242.929993  246.919998  11537800\n",
      "\n",
      "[250 rows x 5 columns]\n"
     ]
    }
   ],
   "source": [
    "print(data)"
   ]
  },
  {
   "cell_type": "markdown",
   "id": "3762ee9f",
   "metadata": {},
   "source": [
    "### Prepare data to Bollinger Band"
   ]
  },
  {
   "cell_type": "code",
   "execution_count": 162,
   "id": "ff9c2cb7",
   "metadata": {},
   "outputs": [],
   "source": [
    "data['IBS'] = (data['Close'] - data['Low']) / (data['High'] - data['Low'])\n",
    "data['HL_avg'] = data['High'].rolling(window=25).mean() - data['Low'].rolling(window=25).mean()\n",
    "data['Band'] = data['High'].rolling(window=25).mean() - (2.25 * data['HL_avg'])"
   ]
  },
  {
   "cell_type": "code",
   "execution_count": 163,
   "id": "36591a56",
   "metadata": {},
   "outputs": [
    {
     "name": "stdout",
     "output_type": "stream",
     "text": [
      "Price            Close        High         Low        Open    Volume  \\\n",
      "Date                                                                   \n",
      "2025-08-11  252.679993  254.690002  245.559998  248.399994   9012100   \n",
      "2025-08-12  253.860001  257.869995  251.080002  252.580002   9998400   \n",
      "2025-08-13  244.179993  257.670013  242.639999  257.170013  14182100   \n",
      "2025-08-14  244.960007  248.919998  242.570007  244.949997  10285600   \n",
      "2025-08-15  248.279999  250.630005  242.929993  246.919998  11537800   \n",
      "\n",
      "Price            IBS    HL_avg        Band  \n",
      "Date                                        \n",
      "2025-08-11  0.779846  6.136518  233.179497  \n",
      "2025-08-12  0.409426  6.078818  233.987000  \n",
      "2025-08-13  0.102461  6.500001  233.905798  \n",
      "2025-08-14  0.376378  6.491601  234.279099  \n",
      "2025-08-15  0.694805  6.634401  234.622998  \n"
     ]
    }
   ],
   "source": [
    "print(data.tail())"
   ]
  },
  {
   "cell_type": "markdown",
   "id": "0a11ba52",
   "metadata": {},
   "source": [
    "### Backtesting strategy"
   ]
  },
  {
   "cell_type": "markdown",
   "id": "b4e3925a",
   "metadata": {},
   "source": [
    "**In this backtesting we are skipping taxes and brokerage commissions.**\n",
    "1. For loop to simulate every day from 25th day to end of list.\n",
    "2. If position on market doesn't exist + IBS is below 0.6 and closing price is below Band then buy.\n",
    "3. If position on market exist + today closing price is higher than High price from yesterday then sell."
   ]
  },
  {
   "cell_type": "code",
   "execution_count": null,
   "id": "e673d946",
   "metadata": {},
   "outputs": [],
   "source": [
    "is_position = False\n",
    "assets_num = 0\n",
    "wallet = 1000\n",
    "\n",
    "backtesting_data = {'Entry': [], 'Exit': []}\n",
    "\n",
    "for i in range(25, len(data)):\n",
    "    if not is_position and data['IBS'].iloc[i] < 0.6 and data['Close'].iloc[i] < data['Band'].iloc[i]:\n",
    "        is_position = True\n",
    "        assets_num = wallet / data['Close'].iloc[i]\n",
    "        wallet = 0\n",
    "        backtesting_data['Entry'].append({\n",
    "            'Date': data.index[i],\n",
    "            'Price': data['Close'].iloc[i]\n",
    "        })\n",
    "    elif is_position and data['Close'].iloc[i] > data['High'].iloc[i - 1]:\n",
    "        is_position = False\n",
    "        wallet = assets_num * data['Close'].iloc[i]\n",
    "        assets_num = 0\n",
    "        backtesting_data['Exit'].append({\n",
    "            'Date': data.index[i],\n",
    "            'Price': data['Close'].iloc[i]\n",
    "        })"
   ]
  },
  {
   "cell_type": "code",
   "execution_count": 165,
   "id": "09a355fe",
   "metadata": {},
   "outputs": [
    {
     "name": "stdout",
     "output_type": "stream",
     "text": [
      "982.3585551692189\n"
     ]
    }
   ],
   "source": [
    "print(wallet)"
   ]
  },
  {
   "cell_type": "code",
   "execution_count": 166,
   "id": "44984f3f",
   "metadata": {},
   "outputs": [
    {
     "name": "stdout",
     "output_type": "stream",
     "text": [
      "10 entries\n",
      "10 exits\n"
     ]
    }
   ],
   "source": [
    "print(len(backtesting_data['Entry']), \"entries\")\n",
    "print(len(backtesting_data['Exit']), \"exits\")"
   ]
  },
  {
   "cell_type": "code",
   "execution_count": 167,
   "id": "0097dd11",
   "metadata": {},
   "outputs": [
    {
     "name": "stdout",
     "output_type": "stream",
     "text": [
      "Entry: 2024-12-11 00:00:00, Exit: 2024-12-24 00:00:00 - Error: Entry after Exit\n",
      "Entry: 2024-12-26 00:00:00, Exit: 2025-01-14 00:00:00 - Error: Entry after Exit\n",
      "Entry: 2025-01-15 00:00:00, Exit: 2025-01-16 00:00:00 - Error: Entry after Exit\n",
      "Entry: 2025-01-27 00:00:00, Exit: 2025-01-30 00:00:00 - Error: Entry after Exit\n",
      "Entry: 2025-03-06 00:00:00, Exit: 2025-03-12 00:00:00 - Error: Entry after Exit\n",
      "Entry: 2025-03-13 00:00:00, Exit: 2025-03-17 00:00:00 - Error: Entry after Exit\n",
      "Entry: 2025-03-18 00:00:00, Exit: 2025-03-19 00:00:00 - Error: Entry after Exit\n",
      "Entry: 2025-03-27 00:00:00, Exit: 2025-04-01 00:00:00 - Error: Entry after Exit\n",
      "Entry: 2025-04-03 00:00:00, Exit: 2025-04-09 00:00:00 - Error: Entry after Exit\n",
      "Entry: 2025-04-16 00:00:00, Exit: 2025-04-22 00:00:00 - Error: Entry after Exit\n"
     ]
    }
   ],
   "source": [
    "for entry, exit in zip(backtesting_data['Entry'], backtesting_data['Exit']):\n",
    "    print(f\"Entry: {entry}, Exit: {exit} - Error: Entry after Exit\")\n"
   ]
  }
 ],
 "metadata": {
  "kernelspec": {
   "display_name": ".venv",
   "language": "python",
   "name": "python3"
  },
  "language_info": {
   "codemirror_mode": {
    "name": "ipython",
    "version": 3
   },
   "file_extension": ".py",
   "mimetype": "text/x-python",
   "name": "python",
   "nbconvert_exporter": "python",
   "pygments_lexer": "ipython3",
   "version": "3.12.8"
  }
 },
 "nbformat": 4,
 "nbformat_minor": 5
}
