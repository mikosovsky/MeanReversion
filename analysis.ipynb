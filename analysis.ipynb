{
 "cells": [
  {
   "cell_type": "markdown",
   "id": "c9ce02af",
   "metadata": {},
   "source": [
    "# Mean Reversion"
   ]
  },
  {
   "cell_type": "markdown",
   "id": "72136e57",
   "metadata": {},
   "source": [
    "## Internal Bar Strength"
   ]
  },
  {
   "cell_type": "markdown",
   "id": "9c9c6544",
   "metadata": {},
   "source": [
    "### Theory"
   ]
  },
  {
   "cell_type": "markdown",
   "id": "b899ef48",
   "metadata": {},
   "source": [
    "**IBS** can in someway predict bullish or bearish movement of feature. It' pretty simple to calculate:\n",
    "$$\n",
    "\\text{IBS}=\\frac{\\text{Close}-\\text{Low}}{\\text{High}-\\text{Low}}\n",
    "$$"
   ]
  },
  {
   "cell_type": "markdown",
   "id": "639c9967",
   "metadata": {},
   "source": [
    "$$\n",
    "\\text{IBS} < 0.6 \\rightarrow \\text{potential bearish sentiment}\n",
    "$$\n",
    "$$\n",
    "\\text{IBS} \\geq 0.6 \\rightarrow \\text{potential bullish sentiment}\n",
    "$$"
   ]
  },
  {
   "cell_type": "markdown",
   "id": "1e9f1878",
   "metadata": {},
   "source": [
    "Bollinger Band integrate historical data to estimate when a mean reversal is probable. Bollinger is using 25-day moving average of high prices and its deviation from the scaled range of high and low moving average prices:\n",
    "\n",
    "$$\n",
    "\\text{Band} = \\text{MA}_{25}(\\text{High})-(2.25\\cdot\\text{HL}_\\text{avg})\n",
    "$$\n",
    "where\n",
    "$$\n",
    "\\text{HL}_\\text{avg}=\\text{MA}_{25}(\\text{High})-\\text{MA}_{25}(\\text{Low})\n",
    "$$"
   ]
  },
  {
   "cell_type": "markdown",
   "id": "00034dfa",
   "metadata": {},
   "source": [
    "### Fetch data"
   ]
  },
  {
   "cell_type": "code",
   "execution_count": 37,
   "id": "97284a76",
   "metadata": {},
   "outputs": [
    {
     "name": "stderr",
     "output_type": "stream",
     "text": [
      "/var/folders/g3/sxyl_n7x6d51bbb320nhxx5c0000gn/T/ipykernel_30817/1333310758.py:5: FutureWarning: YF.download() has changed argument auto_adjust default to True\n",
      "  data = yf.download(ticker, period=\"30y\", interval=\"1d\", group_by=\"column\")\n",
      "[*********************100%***********************]  1 of 1 completed\n"
     ]
    }
   ],
   "source": [
    "import yfinance as yf\n",
    "\n",
    "ticker = \"^GSPC\"\n",
    "\n",
    "data = yf.download(ticker, period=\"30y\", interval=\"1d\", group_by=\"column\")\n",
    "data.columns = data.columns.droplevel(1)  # Usuwa drugi poziom MultiIndex"
   ]
  },
  {
   "cell_type": "code",
   "execution_count": 38,
   "id": "89d78727",
   "metadata": {},
   "outputs": [
    {
     "name": "stdout",
     "output_type": "stream",
     "text": [
      "Price             Close         High          Low         Open      Volume\n",
      "Date                                                                      \n",
      "1995-08-16   559.969971   559.979980   557.369995   558.570007   390170000\n",
      "1995-08-17   559.039978   559.969971   557.419983   559.969971   354460000\n",
      "1995-08-18   559.210022   561.239990   558.340027   559.039978   320490000\n",
      "1995-08-21   558.109985   563.340027   557.890015   559.210022   303200000\n",
      "1995-08-22   559.520020   559.520020   555.869995   558.109985   290890000\n",
      "...                 ...          ...          ...          ...         ...\n",
      "2025-08-11  6373.450195  6407.250000  6364.060059  6389.669922  4652400000\n",
      "2025-08-12  6445.759766  6446.549805  6385.759766  6395.169922  5135300000\n",
      "2025-08-13  6466.580078  6480.279785  6445.020020  6462.669922  5195950000\n",
      "2025-08-14  6468.540039  6473.919922  6441.069824  6453.459961  4462050000\n",
      "2025-08-15  6449.799805  6481.339844  6441.850098  6477.379883  4575060000\n",
      "\n",
      "[7550 rows x 5 columns]\n"
     ]
    }
   ],
   "source": [
    "print(data)"
   ]
  },
  {
   "cell_type": "markdown",
   "id": "3762ee9f",
   "metadata": {},
   "source": [
    "### Prepare data to Bollinger Band"
   ]
  },
  {
   "cell_type": "code",
   "execution_count": 41,
   "id": "ff9c2cb7",
   "metadata": {},
   "outputs": [],
   "source": [
    "data['IBS'] = (data['Close'] - data['Low']) / (data['High'] - data['Low'])\n",
    "data['HL_avg'] = data['High'].rolling(window=25).mean() - data['Low'].rolling(window=25).mean()\n",
    "data['Band'] = data['High'].rolling(window=25).mean() - (2.25 * data['HL_avg'])"
   ]
  },
  {
   "cell_type": "code",
   "execution_count": 42,
   "id": "36591a56",
   "metadata": {},
   "outputs": [
    {
     "name": "stdout",
     "output_type": "stream",
     "text": [
      "Price             Close         High          Low         Open      Volume  \\\n",
      "Date                                                                         \n",
      "2025-08-11  6373.450195  6407.250000  6364.060059  6389.669922  4652400000   \n",
      "2025-08-12  6445.759766  6446.549805  6385.759766  6395.169922  5135300000   \n",
      "2025-08-13  6466.580078  6480.279785  6445.020020  6462.669922  5195950000   \n",
      "2025-08-14  6468.540039  6473.919922  6441.069824  6453.459961  4462050000   \n",
      "2025-08-15  6449.799805  6481.339844  6441.850098  6477.379883  4575060000   \n",
      "\n",
      "Price            IBS     HL_avg         Band  \n",
      "Date                                          \n",
      "2025-08-11  0.217415  46.380801  6234.366011  \n",
      "2025-08-12  0.987004  47.814395  6239.294409  \n",
      "2025-08-13  0.611463  47.715586  6247.961514  \n",
      "2025-08-14  0.836229  47.478379  6255.843218  \n",
      "2025-08-15  0.201311  47.784375  6263.630723  \n"
     ]
    }
   ],
   "source": [
    "print(data.tail())"
   ]
  }
 ],
 "metadata": {
  "kernelspec": {
   "display_name": ".venv",
   "language": "python",
   "name": "python3"
  },
  "language_info": {
   "codemirror_mode": {
    "name": "ipython",
    "version": 3
   },
   "file_extension": ".py",
   "mimetype": "text/x-python",
   "name": "python",
   "nbconvert_exporter": "python",
   "pygments_lexer": "ipython3",
   "version": "3.12.8"
  }
 },
 "nbformat": 4,
 "nbformat_minor": 5
}
