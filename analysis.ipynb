{
 "cells": [
  {
   "cell_type": "markdown",
   "id": "c9ce02af",
   "metadata": {},
   "source": [
    "# Mean Reversion"
   ]
  },
  {
   "cell_type": "markdown",
   "id": "72136e57",
   "metadata": {},
   "source": [
    "## Internal Bar Strength"
   ]
  },
  {
   "cell_type": "markdown",
   "id": "b899ef48",
   "metadata": {},
   "source": [
    "**IBS** can in someway predict bullish or bearish movement of feature. It' pretty simple to calculate:\n",
    "$$\n",
    "\\text{IBS}=\\frac{\\text{Close}-\\text{Low}}{\\text{High}-\\text{Low}}\n",
    "$$"
   ]
  },
  {
   "cell_type": "markdown",
   "id": "639c9967",
   "metadata": {},
   "source": [
    "$$\n",
    "\\text{IBS} < 0.6 \\rightarrow \\text{potential bearish sentiment}\n",
    "$$\n",
    "$$\n",
    "\\text{IBS} \\geq 0.6 \\rightarrow \\text{potential bullish sentiment}\n",
    "$$"
   ]
  },
  {
   "cell_type": "markdown",
   "id": "1e9f1878",
   "metadata": {},
   "source": [
    "Bollinger Band integrate historical data to estimate when a mean reversal is probable. Bollinger is using 25-day moving average of high prices and its deviation from the scaled range of high and low moving average prices:\n",
    "\n",
    "$$\n",
    "\\text{Band} = \\text{MA}_{25}(\\text{High})-(2.25\\cdot\\text{HL}_\\text{avg})\n",
    "$$\n",
    "where\n",
    "$$\n",
    "\\text{HL}_\\text{avg}=\\text{MA}_{25}(\\text{High})-\\text{MA}_{25}(\\text{Low})\n",
    "$$"
   ]
  }
 ],
 "metadata": {
  "kernelspec": {
   "display_name": ".venv",
   "language": "python",
   "name": "python3"
  },
  "language_info": {
   "name": "python",
   "version": "3.12.8"
  }
 },
 "nbformat": 4,
 "nbformat_minor": 5
}
