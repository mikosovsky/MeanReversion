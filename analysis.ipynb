{
 "cells": [
  {
   "cell_type": "markdown",
   "id": "c9ce02af",
   "metadata": {},
   "source": [
    "# Mean Reversion"
   ]
  },
  {
   "cell_type": "markdown",
   "id": "72136e57",
   "metadata": {},
   "source": [
    "## Internal Bar Strength"
   ]
  },
  {
   "cell_type": "markdown",
   "id": "9c9c6544",
   "metadata": {},
   "source": [
    "### Theory"
   ]
  },
  {
   "cell_type": "markdown",
   "id": "b899ef48",
   "metadata": {},
   "source": [
    "**IBS** can in someway predict bullish or bearish movement of feature. It' pretty simple to calculate:\n",
    "$$\n",
    "\\text{IBS}=\\frac{\\text{Close}-\\text{Low}}{\\text{High}-\\text{Low}}\n",
    "$$"
   ]
  },
  {
   "cell_type": "markdown",
   "id": "639c9967",
   "metadata": {},
   "source": [
    "$$\n",
    "\\text{IBS} < 0.6 \\rightarrow \\text{potential bearish sentiment}\n",
    "$$\n",
    "$$\n",
    "\\text{IBS} \\geq 0.6 \\rightarrow \\text{potential bullish sentiment}\n",
    "$$"
   ]
  },
  {
   "cell_type": "markdown",
   "id": "1e9f1878",
   "metadata": {},
   "source": [
    "Bollinger Band integrate historical data to estimate when a mean reversal is probable. Bollinger is using 25-day moving average of high prices and its deviation from the scaled range of high and low moving average prices:\n",
    "\n",
    "$$\n",
    "\\text{Band} = \\text{MA}_{25}(\\text{High})-(2.25\\cdot\\text{HL}_\\text{avg})\n",
    "$$\n",
    "where\n",
    "$$\n",
    "\\text{HL}_\\text{avg}=\\text{MA}_{25}(\\text{High})-\\text{MA}_{25}(\\text{Low})\n",
    "$$"
   ]
  },
  {
   "cell_type": "markdown",
   "id": "00034dfa",
   "metadata": {},
   "source": [
    "### Fetch data"
   ]
  },
  {
   "cell_type": "code",
   "execution_count": null,
   "id": "97284a76",
   "metadata": {},
   "outputs": [
    {
     "name": "stderr",
     "output_type": "stream",
     "text": [
      "/var/folders/g3/sxyl_n7x6d51bbb320nhxx5c0000gn/T/ipykernel_30817/851381253.py:5: FutureWarning: YF.download() has changed argument auto_adjust default to True\n",
      "  data = yf.download(ticker, period=\"max\", interval=\"1d\")\n",
      "[*********************100%***********************]  1 of 1 completed\n"
     ]
    }
   ],
   "source": [
    "import yfinance as yf\n",
    "\n",
    "ticker = \"^GSPC\"\n",
    "\n",
    "data = yf.download(ticker, period=\"30y\", interval=\"1d\")"
   ]
  },
  {
   "cell_type": "code",
   "execution_count": 20,
   "id": "89d78727",
   "metadata": {},
   "outputs": [
    {
     "name": "stdout",
     "output_type": "stream",
     "text": [
      "Price             Close         High          Low         Open      Volume\n",
      "Ticker            ^GSPC        ^GSPC        ^GSPC        ^GSPC       ^GSPC\n",
      "Date                                                                      \n",
      "1927-12-30    17.660000    17.660000    17.660000    17.660000           0\n",
      "1928-01-03    17.760000    17.760000    17.760000    17.760000           0\n",
      "1928-01-04    17.719999    17.719999    17.719999    17.719999           0\n",
      "1928-01-05    17.549999    17.549999    17.549999    17.549999           0\n",
      "1928-01-06    17.660000    17.660000    17.660000    17.660000           0\n",
      "...                 ...          ...          ...          ...         ...\n",
      "2025-08-11  6373.450195  6407.250000  6364.060059  6389.669922  4652400000\n",
      "2025-08-12  6445.759766  6446.549805  6385.759766  6395.169922  5135300000\n",
      "2025-08-13  6466.580078  6480.279785  6445.020020  6462.669922  5195950000\n",
      "2025-08-14  6468.540039  6473.919922  6441.069824  6453.459961  4462050000\n",
      "2025-08-15  6449.799805  6481.339844  6441.850098  6477.379883  4575060000\n",
      "\n",
      "[24522 rows x 5 columns]\n"
     ]
    }
   ],
   "source": [
    "print(data)"
   ]
  }
 ],
 "metadata": {
  "kernelspec": {
   "display_name": ".venv",
   "language": "python",
   "name": "python3"
  },
  "language_info": {
   "codemirror_mode": {
    "name": "ipython",
    "version": 3
   },
   "file_extension": ".py",
   "mimetype": "text/x-python",
   "name": "python",
   "nbconvert_exporter": "python",
   "pygments_lexer": "ipython3",
   "version": "3.12.8"
  }
 },
 "nbformat": 4,
 "nbformat_minor": 5
}
