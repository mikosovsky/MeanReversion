{
 "cells": [
  {
   "cell_type": "markdown",
   "id": "c9ce02af",
   "metadata": {},
   "source": [
    "# Mean Reversion"
   ]
  },
  {
   "cell_type": "markdown",
   "id": "72136e57",
   "metadata": {},
   "source": [
    "## Internal Bar Strength"
   ]
  },
  {
   "cell_type": "markdown",
   "id": "9c9c6544",
   "metadata": {},
   "source": [
    "### Theory"
   ]
  },
  {
   "cell_type": "markdown",
   "id": "b899ef48",
   "metadata": {},
   "source": [
    "**IBS** can in someway predict bullish or bearish movement of feature. It' pretty simple to calculate:\n",
    "$$\n",
    "\\text{IBS}=\\frac{\\text{Close}-\\text{Low}}{\\text{High}-\\text{Low}}\n",
    "$$"
   ]
  },
  {
   "cell_type": "markdown",
   "id": "639c9967",
   "metadata": {},
   "source": [
    "$$\n",
    "\\text{IBS} < 0.6 \\rightarrow \\text{potential bearish sentiment}\n",
    "$$\n",
    "$$\n",
    "\\text{IBS} \\geq 0.6 \\rightarrow \\text{potential bullish sentiment}\n",
    "$$"
   ]
  },
  {
   "cell_type": "markdown",
   "id": "1e9f1878",
   "metadata": {},
   "source": [
    "Bollinger Band integrate historical data to estimate when a mean reversal is probable. Bollinger is using 25-day moving average of high prices and its deviation from the scaled range of high and low moving average prices:\n",
    "\n",
    "$$\n",
    "\\text{Band} = \\text{MA}_{25}(\\text{High})-(2.25\\cdot\\text{HL}_\\text{avg})\n",
    "$$\n",
    "where\n",
    "$$\n",
    "\\text{HL}_\\text{avg}=\\text{MA}_{25}(\\text{High})-\\text{MA}_{25}(\\text{Low})\n",
    "$$"
   ]
  },
  {
   "cell_type": "markdown",
   "id": "00034dfa",
   "metadata": {},
   "source": [
    "### Fetch data"
   ]
  },
  {
   "cell_type": "code",
   "execution_count": 336,
   "id": "97284a76",
   "metadata": {},
   "outputs": [
    {
     "name": "stderr",
     "output_type": "stream",
     "text": [
      "/var/folders/g3/sxyl_n7x6d51bbb320nhxx5c0000gn/T/ipykernel_1059/1047010976.py:6: FutureWarning: YF.download() has changed argument auto_adjust default to True\n",
      "  data = yf.download(ticker, period=\"1y\", interval=\"1d\", group_by=\"column\")\n",
      "[*********************100%***********************]  1 of 1 completed\n"
     ]
    }
   ],
   "source": [
    "import yfinance as yf\n",
    "\n",
    "ticker = \"^GSPC\"\n",
    "ticker = \"META\"\n",
    "\n",
    "data = yf.download(ticker, period=\"1y\", interval=\"1d\", group_by=\"column\")\n",
    "data.columns = data.columns.droplevel(1)  # drop second level of MultiIndex"
   ]
  },
  {
   "cell_type": "code",
   "execution_count": 337,
   "id": "89d78727",
   "metadata": {},
   "outputs": [
    {
     "name": "stdout",
     "output_type": "stream",
     "text": [
      "Price            Close        High         Low        Open    Volume\n",
      "Date                                                                \n",
      "2024-08-19  527.473938  529.845761  520.976167  525.072128   9879700\n",
      "2024-08-20  524.932556  529.277724  524.085481  526.547023   7944400\n",
      "2024-08-21  533.333801  537.559384  525.131905  525.351186  13423300\n",
      "2024-08-22  530.114746  542.372759  526.786178  535.167452  15708300\n",
      "2024-08-23  526.198242  538.027732  523.268272  535.087786  11323900\n",
      "...                ...         ...         ...         ...       ...\n",
      "2025-08-12  790.000000  793.669983  772.429993  773.000000  14563100\n",
      "2025-08-13  780.080017  795.460022  778.229980  791.150024   8811800\n",
      "2025-08-14  782.130005  787.809998  772.510010  777.880005   8116200\n",
      "2025-08-15  785.229980  796.250000  780.820007  784.150024  13363500\n",
      "2025-08-18  767.369995  775.804993  756.560120  775.320007  16433095\n",
      "\n",
      "[250 rows x 5 columns]\n"
     ]
    }
   ],
   "source": [
    "print(data)"
   ]
  },
  {
   "cell_type": "markdown",
   "id": "3762ee9f",
   "metadata": {},
   "source": [
    "### Prepare data to Bollinger Band"
   ]
  },
  {
   "cell_type": "code",
   "execution_count": 338,
   "id": "ff9c2cb7",
   "metadata": {},
   "outputs": [],
   "source": [
    "data['IBS'] = (data['Close'] - data['Low']) / (data['High'] - data['Low'])\n",
    "data['HL_avg'] = data['High'].rolling(window=25).mean() - data['Low'].rolling(window=25).mean()\n",
    "data['Band'] = data['High'].rolling(window=25).mean() - (2.25 * data['HL_avg'])"
   ]
  },
  {
   "cell_type": "code",
   "execution_count": 339,
   "id": "36591a56",
   "metadata": {},
   "outputs": [
    {
     "name": "stdout",
     "output_type": "stream",
     "text": [
      "Price            Close        High         Low        Open    Volume  \\\n",
      "Date                                                                   \n",
      "2025-08-12  790.000000  793.669983  772.429993  773.000000  14563100   \n",
      "2025-08-13  780.080017  795.460022  778.229980  791.150024   8811800   \n",
      "2025-08-14  782.130005  787.809998  772.510010  777.880005   8116200   \n",
      "2025-08-15  785.229980  796.250000  780.820007  784.150024  13363500   \n",
      "2025-08-18  767.369995  775.804993  756.560120  775.320007  16433095   \n",
      "\n",
      "Price            IBS     HL_avg        Band  \n",
      "Date                                         \n",
      "2025-08-12  0.827214  14.640801  707.944197  \n",
      "2025-08-13  0.107373  14.737600  710.043598  \n",
      "2025-08-14  0.628758  14.701599  712.205001  \n",
      "2025-08-15  0.285805  14.700400  715.051299  \n",
      "2025-08-18  0.561702  15.012195  716.261961  \n"
     ]
    }
   ],
   "source": [
    "print(data.tail())"
   ]
  },
  {
   "cell_type": "markdown",
   "id": "0a11ba52",
   "metadata": {},
   "source": [
    "### Backtesting strategy"
   ]
  },
  {
   "cell_type": "markdown",
   "id": "b4e3925a",
   "metadata": {},
   "source": [
    "**In this backtesting we are skipping taxes and brokerage commissions.**\n",
    "1. For loop to simulate every day from 25th day to end of list.\n",
    "2. If position on market doesn't exist + IBS is below 0.6 and closing price is below Band then buy.\n",
    "3. If position on market exist + today closing price is higher than High price from yesterday then sell."
   ]
  },
  {
   "cell_type": "code",
   "execution_count": 340,
   "id": "e673d946",
   "metadata": {},
   "outputs": [],
   "source": [
    "import numpy as np\n",
    "import pandas as pd\n",
    "\n",
    "is_position = False\n",
    "assets_num = 0\n",
    "wallet = 1000\n",
    "\n",
    "backtesting_data = {'Entry': [np.nan for _ in range(25)], 'Exit': [np.nan for _ in range(25)]}\n",
    "\n",
    "for i in range(25, len(data)):\n",
    "    if not is_position and data['IBS'].iloc[i] < 0.6 and data['Close'].iloc[i] < data['Band'].iloc[i]:\n",
    "        is_position = True\n",
    "        assets_num = wallet / data['Close'].iloc[i]\n",
    "        wallet = 0\n",
    "        backtesting_data['Entry'].append(data['Close'].iloc[i])\n",
    "    else:\n",
    "        backtesting_data['Entry'].append(np.nan)\n",
    "\n",
    "    if is_position and data['Close'].iloc[i] > data['High'].iloc[i - 1]:\n",
    "        is_position = False\n",
    "        wallet = assets_num * data['Close'].iloc[i]\n",
    "        assets_num = 0\n",
    "        backtesting_data['Exit'].append(data['Close'].iloc[i])\n",
    "    else:\n",
    "        backtesting_data['Exit'].append(np.nan)\n",
    "\n",
    "    \n"
   ]
  },
  {
   "cell_type": "code",
   "execution_count": 341,
   "id": "09a355fe",
   "metadata": {},
   "outputs": [
    {
     "name": "stdout",
     "output_type": "stream",
     "text": [
      "1127.7344762222842\n"
     ]
    }
   ],
   "source": [
    "print(wallet)"
   ]
  },
  {
   "cell_type": "code",
   "execution_count": 342,
   "id": "44984f3f",
   "metadata": {},
   "outputs": [
    {
     "name": "stdout",
     "output_type": "stream",
     "text": [
      "250 entries\n",
      "250 exits\n",
      "250 days\n"
     ]
    }
   ],
   "source": [
    "print(len(backtesting_data['Entry']), \"entries\")\n",
    "print(len(backtesting_data['Exit']), \"exits\")\n",
    "print(len(data), \"days\")"
   ]
  },
  {
   "cell_type": "markdown",
   "id": "03411dc1",
   "metadata": {},
   "source": [
    "### Visualization of Backtesting Results"
   ]
  },
  {
   "cell_type": "code",
   "execution_count": 343,
   "id": "d05a0f91",
   "metadata": {},
   "outputs": [
    {
     "data": {
      "image/png": "[encoded data removed]",
      "text/plain": [
       "<Figure size 800x575 with 2 Axes>"
      ]
     },
     "metadata": {},
     "output_type": "display_data"
    }
   ],
   "source": [
    "import mplfinance as mpf\n",
    "\n",
    "ap = [\n",
    "    mpf.make_addplot(backtesting_data['Entry'], type='scatter', markersize=100, marker='^', color='g'),\n",
    "    mpf.make_addplot(backtesting_data['Exit'], type='scatter', markersize=100, marker='v', color='r')\n",
    "]\n",
    "\n",
    "\n",
    "mpf.plot(\n",
    "    data,\n",
    "    type='candle',\n",
    "    addplot=ap,\n",
    "    volume=False,\n",
    "    style='yahoo',\n",
    "    title='Mean Reversion Strategy Backtest',\n",
    "    tight_layout=True\n",
    ")"
   ]
  }
 ],
 "metadata": {
  "kernelspec": {
   "display_name": ".venv",
   "language": "python",
   "name": "python3"
  },
  "language_info": {
   "codemirror_mode": {
    "name": "ipython",
    "version": 3
   },
   "file_extension": ".py",
   "mimetype": "text/x-python",
   "name": "python",
   "nbconvert_exporter": "python",
   "pygments_lexer": "ipython3",
   "version": "3.12.8"
  }
 },
 "nbformat": 4,
 "nbformat_minor": 5
}
