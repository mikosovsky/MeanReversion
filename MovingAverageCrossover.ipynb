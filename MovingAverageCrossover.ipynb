{
 "cells": [
  {
   "cell_type": "markdown",
   "id": "a35421c6",
   "metadata": {},
   "source": [
    "# Moving Average Crossover"
   ]
  },
  {
   "cell_type": "markdown",
   "id": "a2b790df",
   "metadata": {},
   "source": [
    "## Simple Moving Average"
   ]
  },
  {
   "cell_type": "markdown",
   "id": "7afd35ad",
   "metadata": {},
   "source": [
    "### Theory"
   ]
  },
  {
   "cell_type": "markdown",
   "id": "64eb5937",
   "metadata": {},
   "source": [
    "**SMA** is a technical indicator used to smooth out price data and identify trends. \\\n",
    "Formula:\n",
    "$$\n",
    "\\text{SMA}_n=\\frac{\\sum_{i=1}^{n}\\text{P}_i}{n}\n",
    "$$\n",
    "where \\\n",
    "n - num of periods \\\n",
    "$P_i$ - price of period"
   ]
  },
  {
   "cell_type": "markdown",
   "id": "08b4c91a",
   "metadata": {},
   "source": [
    "## Exponential Moving Average"
   ]
  },
  {
   "cell_type": "markdown",
   "id": "356270ae",
   "metadata": {},
   "source": [
    "### Theory"
   ]
  },
  {
   "cell_type": "markdown",
   "id": "edcb1c09",
   "metadata": {},
   "source": [
    "**EMA** is a type of moving average which is used to smooth out price data and identify trends. It gives more weight to recent prices and making it more responsive to new information and price changes. \\\n",
    "Formula:\n",
    "$$\n",
    "\\text{EMA}_i=\\text{EMA}_{i-1} + \\alpha(\\text{P}_i-\\text{EMA}_{i-1})\n",
    "$$\n",
    "where \\\n",
    "n - num of periods \\\n",
    "$\\alpha=\\frac{2}{n+1}$ - smoothing factor \\\n",
    "$\\text{P}_i$ - price of period\n"
   ]
  }
 ],
 "metadata": {
  "language_info": {
   "name": "python"
  }
 },
 "nbformat": 4,
 "nbformat_minor": 5
}
